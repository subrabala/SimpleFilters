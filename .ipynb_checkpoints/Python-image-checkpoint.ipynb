{
 "cells": [
  {
   "cell_type": "code",
   "execution_count": 2,
   "id": "55270f95",
   "metadata": {},
   "outputs": [],
   "source": [
    "import cv2 as cv\n",
    "import numpy as np"
   ]
  },
  {
   "cell_type": "code",
   "execution_count": 3,
   "id": "eb6567c4",
   "metadata": {},
   "outputs": [
    {
     "name": "stdout",
     "output_type": "stream",
     "text": [
      "[[[129 143 232]\n",
      "  [130 144 233]\n",
      "  [126 140 229]\n",
      "  ...\n",
      "  [117 160 241]\n",
      "  [101 146 227]\n",
      "  [ 99 146 227]]\n",
      "\n",
      " [[128 142 231]\n",
      "  [130 144 233]\n",
      "  [126 140 229]\n",
      "  ...\n",
      "  [116 153 237]\n",
      "  [107 147 230]\n",
      "  [105 148 229]]\n",
      "\n",
      " [[125 141 230]\n",
      "  [127 143 232]\n",
      "  [123 138 230]\n",
      "  ...\n",
      "  [119 146 233]\n",
      "  [110 138 225]\n",
      "  [108 139 224]]\n",
      "\n",
      " ...\n",
      "\n",
      " [[ 57  20  82]\n",
      "  [ 58  24  85]\n",
      "  [ 59  25  89]\n",
      "  ...\n",
      "  [ 85  71 172]\n",
      "  [ 81  70 172]\n",
      "  [ 79  71 172]]\n",
      "\n",
      " [[ 89  52 114]\n",
      "  [ 58  24  85]\n",
      "  [ 72  38 102]\n",
      "  ...\n",
      "  [ 87  74 176]\n",
      "  [ 88  79 183]\n",
      "  [ 95  88 192]]\n",
      "\n",
      " [[ 89  52 114]\n",
      "  [ 58  24  85]\n",
      "  [ 72  38 102]\n",
      "  ...\n",
      "  [ 85  74 176]\n",
      "  [ 88  78 184]\n",
      "  [ 95  88 193]]]\n"
     ]
    }
   ],
   "source": [
    "#display, show shape\n",
    "\n",
    "img=cv.imread('lena.jpg')\n",
    "print(img) #prints image value (rgb)\n",
    "cv.imshow('LENA', img)  #1st parameter - name_of_window, 2nd - size\n",
    "cv.waitKey(10000)\n",
    "cv.destroyAllWindows()"
   ]
  },
  {
   "cell_type": "code",
   "execution_count": 5,
   "id": "dc742642",
   "metadata": {},
   "outputs": [],
   "source": [
    "#resize\n",
    "\n",
    "h,w=img.shape[:2] #first 2 values in dimensions are h and w\n",
    "new_h, new_w= int(h/2), int(w/2)\n",
    "resize=cv.resize(img,(new_w, new_h))\n",
    "cv.imshow('resizing', resize)\n",
    "cv.imwrite('pic1.jpg',img)  #saves this image (2nd) named as (1st) in folder\n",
    "cv.waitKey(10000) #waits for 3s before destroying all\n",
    "cv.destroyAllWindows()"
   ]
  },
  {
   "cell_type": "code",
   "execution_count": 7,
   "id": "4f0e454b",
   "metadata": {},
   "outputs": [],
   "source": [
    "#blank image\n",
    "blank=np.zeros((500,500,3), dtype='uint8')\n",
    "cv.imshow('BLANK', blank)\n",
    "blank[0:100,100:300]=255,0,0  #height co-ord : width co-ord, \n",
    "cv.imshow('colour',blank)\n",
    "cv.waitKey(10000)\n",
    "cv.destroyAllWindows()"
   ]
  },
  {
   "cell_type": "code",
   "execution_count": 9,
   "id": "375c8ecd",
   "metadata": {},
   "outputs": [],
   "source": [
    "#grayscale\n",
    "gray=cv.cvtColor(img, cv.COLOR_BGR2GRAY)\n",
    "cv.imshow('Grayscale', gray)\n",
    "r,g,b= img[:,:,0], img[:,:,1], img[:,:,2]\n",
    "cv.imshow('red', r)\n",
    "cv.imwrite('gray.jpg',b)  #stores the grayscale image in folder\n",
    "cv.waitKey(10000)\n",
    "cv.destroyAllWindows()"
   ]
  },
  {
   "cell_type": "code",
   "execution_count": 24,
   "id": "026cdebf",
   "metadata": {},
   "outputs": [],
   "source": [
    "#blur\n",
    "blur=cv.GaussianBlur(img,(5,5),cv.BORDER_DEFAULT)  #odd number tuple\n",
    "cv.imshow('Blur',blur)\n",
    "avg_blur=cv.blur(img,(5,5))\n",
    "cv.imshow('Average Blur', avg_blur)\n",
    "cv.imwrite('blur1.jpg',avg_blur)\n",
    "cv.waitKey(10000)\n",
    "cv.destroyAllWindows()"
   ]
  },
  {
   "cell_type": "code",
   "execution_count": null,
   "id": "f818c6ca",
   "metadata": {},
   "outputs": [],
   "source": [
    "#edge \n",
    "edges=cv.Canny(img,175,120)\n",
    "cv.imshow('edge-detect', edges)\n",
    "cv.imwrite('edge.jpg',edges)\n",
    "cv.waitKey(10000)\n",
    "cv.destroyAllWindows()"
   ]
  },
  {
   "cell_type": "code",
   "execution_count": 13,
   "id": "963a8100",
   "metadata": {},
   "outputs": [],
   "source": [
    "#crop\n",
    "crop_img = img[100:400, 200:600]\n",
    "cv.imshow('Crop', crop_img)\n",
    "cv.waitKey(10000)\n",
    "cv.destroyAllWindows()"
   ]
  },
  {
   "cell_type": "code",
   "execution_count": 14,
   "id": "ffc737f9",
   "metadata": {},
   "outputs": [],
   "source": [
    "#colour channel split\n",
    "blank =np.zeros(img.shape[:2],dtype='uint8')\n",
    "b,g,r =cv.split(img) #still black/white\n",
    "\n",
    "blue= cv.merge([b,blank,blank])\n",
    "cv.imshow('blue_channel', blue)  #only blue\n",
    "green= cv.merge([blank,g,blank])\n",
    "cv.imshow('green_channel', green)  #only green\n",
    "red= cv.merge([blank,blank,r])\n",
    "cv.imshow('red_channel', red)  #only red\n",
    "\n",
    "merged= cv.merge([b,g,r])\n",
    "cv.imshow('merge', merged)\n",
    "cv.waitKey(10000)\n",
    "cv.destroyAllWindows()"
   ]
  },
  {
   "cell_type": "code",
   "execution_count": 16,
   "id": "2e0a936d",
   "metadata": {},
   "outputs": [],
   "source": [
    "#cat face classifier\n",
    "face_cascade=cv.CascadeClassifier(\"cat_face.xml\")  \n",
    "cat=cv.imread(\"cat3.jpg\")\n",
    "gray=cv.cvtColor(cat,cv.COLOR_BGR2GRAY)\n",
    "faces=face_cascade.detectMultiScale(gray,scaleFactor=1.1,minNeighbors=1)\n",
    "for x,y,w,h in faces:\n",
    "    img1=cv.rectangle(cat,(x,y),(x+w,y+h),(57,255,68),3) #the image, starting co-ordinates, ending co-ordinates, colour of rectangle, width \n",
    "cv.imshow('Detected',img1)\n",
    "cv.imwrite('catface.jpg',img1)\n",
    "cv.waitKey(10000)\n",
    "cv.destroyAllWindows()"
   ]
  },
  {
   "cell_type": "code",
   "execution_count": 25,
   "id": "323f502c",
   "metadata": {},
   "outputs": [],
   "source": [
    "#negative\n",
    "img2=255-img\n",
    "cv.imshow(\"negative\", img2)\n",
    "cv.imshow('original',img)\n",
    "cv.imwrite('negative.jpg',img2)\n",
    "cv.waitKey(10000)\n",
    "cv.destroyAllWindows()"
   ]
  },
  {
   "cell_type": "code",
   "execution_count": 22,
   "id": "23529d9a",
   "metadata": {},
   "outputs": [],
   "source": [
    "#circle detection\n",
    "round=cv.imread(\"round.jpg\")\n",
    "output=round.copy()\n",
    "round_gray=cv.cvtColor(round,cv.COLOR_BGR2GRAY)\n",
    "round_blur_gray=cv.blur(round_gray,(3,3))   #blur and gray filter\n",
    "detected_circle = cv.HoughCircles(round_blur_gray, cv.HOUGH_GRADIENT,3,20)  #image, method (circle detection),,minimum distance\n",
    "if detected_circle is not None:\n",
    "    detected_circle=np.round(detected_circle[0,:]).astype(\"int\")\n",
    "    for (x,y,r) in detected_circle:\n",
    "        cv.circle(output, (x,y),r,(255,0,0),3)\n",
    "        cv.rectangle(output,(x-2,y-2),(x+2,y+2),(0,210,0),-1)\n",
    "    cv.imshow(\"output\",output)\n",
    "cv.imwrite('circle1.jpg',output)\n",
    "cv.waitKey(10000)\n",
    "cv.destroyAllWindows()"
   ]
  },
  {
   "cell_type": "code",
   "execution_count": null,
   "id": "8744b08d",
   "metadata": {},
   "outputs": [],
   "source": []
  }
 ],
 "metadata": {
  "kernelspec": {
   "display_name": "Python 3 (ipykernel)",
   "language": "python",
   "name": "python3"
  },
  "language_info": {
   "codemirror_mode": {
    "name": "ipython",
    "version": 3
   },
   "file_extension": ".py",
   "mimetype": "text/x-python",
   "name": "python",
   "nbconvert_exporter": "python",
   "pygments_lexer": "ipython3",
   "version": "3.9.6"
  }
 },
 "nbformat": 4,
 "nbformat_minor": 5
}
